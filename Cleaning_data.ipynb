{
 "cells": [
  {
   "cell_type": "markdown",
   "id": "dbc06d90",
   "metadata": {},
   "source": [
    "# Shark attacks - Pandas Project Juan Perez de Ayala"
   ]
  },
  {
   "cell_type": "markdown",
   "id": "1b768dc8",
   "metadata": {},
   "source": [
    "### En este proyecto vamos a tratar de demostrar 3 hipótesis relacionadas con los ataques de tiburones en el mundo."
   ]
  },
  {
   "cell_type": "markdown",
   "id": "8c01627b",
   "metadata": {},
   "source": [
    "    Hipótesis 1: Nadar es la actividad más peligrosa por encima del surf.\n",
    "    Hipótesis 2: El tiburón blanco es el más mortal.\n",
    "    Hipótesis 3: Hay más ataques en USA que entre Australia y Sudáfrica."
   ]
  },
  {
   "cell_type": "markdown",
   "id": "badea3f3",
   "metadata": {},
   "source": [
    "###### Empezamos importando las librerias y csv necesarios:"
   ]
  },
  {
   "cell_type": "code",
   "execution_count": 1,
   "id": "333b8e57",
   "metadata": {},
   "outputs": [],
   "source": [
    "import pandas as pd\n",
    "import numpy as np\n",
    "import seaborn as sb\n",
    "import re\n",
    "df = pd.read_csv(\"DATA/attacks.csv\",encoding = \"ISO-8859-1\")\n",
    "import src.cleaning_functs as cf"
   ]
  },
  {
   "cell_type": "markdown",
   "id": "d5aa9b5e",
   "metadata": {},
   "source": [
    "##### Comprobamos las columnas que tiene el DataFrame:"
   ]
  },
  {
   "cell_type": "code",
   "execution_count": 2,
   "id": "9f530a3b",
   "metadata": {},
   "outputs": [
    {
     "name": "stdout",
     "output_type": "stream",
     "text": [
      "Index(['Case Number', 'Date', 'Year', 'Type', 'Country', 'Area', 'Location',\n",
      "       'Activity', 'Name', 'Sex ', 'Age', 'Injury', 'Fatal (Y/N)', 'Time',\n",
      "       'Species ', 'Investigator or Source', 'pdf', 'href formula', 'href',\n",
      "       'Case Number.1', 'Case Number.2', 'original order', 'Unnamed: 22',\n",
      "       'Unnamed: 23'],\n",
      "      dtype='object')\n"
     ]
    }
   ],
   "source": [
    "print(df.columns)"
   ]
  },
  {
   "cell_type": "markdown",
   "id": "fe9be718",
   "metadata": {},
   "source": [
    "##### Homogeneizamos el formato del nombre de las columnas:"
   ]
  },
  {
   "cell_type": "code",
   "execution_count": 3,
   "id": "de07e5cc",
   "metadata": {},
   "outputs": [],
   "source": [
    "columnas_df = list(df.columns)"
   ]
  },
  {
   "cell_type": "code",
   "execution_count": 4,
   "id": "a22158db",
   "metadata": {},
   "outputs": [],
   "source": [
    "diccio_nuevas = {columna: columna.replace(\" \", \"_\").lower() for columna in columnas_df}"
   ]
  },
  {
   "cell_type": "code",
   "execution_count": 5,
   "id": "65757dfa",
   "metadata": {},
   "outputs": [],
   "source": [
    "df.rename(columns = diccio_nuevas, inplace=True)"
   ]
  },
  {
   "cell_type": "code",
   "execution_count": 6,
   "id": "b8b825d7",
   "metadata": {},
   "outputs": [
    {
     "name": "stdout",
     "output_type": "stream",
     "text": [
      "Index(['case_number', 'date', 'year', 'type', 'country', 'area', 'location',\n",
      "       'activity', 'name', 'sex_', 'age', 'injury', 'fatal_(y/n)', 'time',\n",
      "       'species_', 'investigator_or_source', 'pdf', 'href_formula', 'href',\n",
      "       'case_number.1', 'case_number.2', 'original_order', 'unnamed:_22',\n",
      "       'unnamed:_23'],\n",
      "      dtype='object')\n"
     ]
    }
   ],
   "source": [
    "print(df.columns)"
   ]
  },
  {
   "cell_type": "markdown",
   "id": "8e270b35",
   "metadata": {},
   "source": [
    "##### Eliminamos del DataFrame las columnas que no vamos a utilizar en ninguna de nuestras hipótesis:"
   ]
  },
  {
   "cell_type": "code",
   "execution_count": 7,
   "id": "35c1d19f",
   "metadata": {},
   "outputs": [
    {
     "name": "stdout",
     "output_type": "stream",
     "text": [
      "Index(['country', 'area', 'location', 'activity', 'fatal_(y/n)', 'species_',\n",
      "       'original_order'],\n",
      "      dtype='object')\n"
     ]
    }
   ],
   "source": [
    "df_hip_filt = df.drop(['case_number','date','year','type','injury','name','sex_','age','time','investigator_or_source','pdf','href_formula','href','case_number.1','case_number.2','unnamed:_22','unnamed:_23'], axis=1)\n",
    "print(df_hip_filt.columns)"
   ]
  },
  {
   "cell_type": "markdown",
   "id": "d144de20",
   "metadata": {},
   "source": [
    "##### Buscamos los valores nulos dentro de nuestro DataFrame ya filtrado:"
   ]
  },
  {
   "cell_type": "code",
   "execution_count": 8,
   "id": "fb90af49",
   "metadata": {},
   "outputs": [
    {
     "data": {
      "text/plain": [
       "country           19471\n",
       "area              19876\n",
       "location          19961\n",
       "activity          19965\n",
       "fatal_(y/n)       19960\n",
       "species_          22259\n",
       "original_order    19414\n",
       "dtype: int64"
      ]
     },
     "execution_count": 8,
     "metadata": {},
     "output_type": "execute_result"
    }
   ],
   "source": [
    "pd.isnull(df_hip_filt).sum()"
   ]
  },
  {
   "cell_type": "markdown",
   "id": "1b008ef7",
   "metadata": {},
   "source": [
    "##### Eliminamos los registros que tienen valores nulos en todas las columnas:"
   ]
  },
  {
   "cell_type": "code",
   "execution_count": 9,
   "id": "229c770b",
   "metadata": {},
   "outputs": [
    {
     "data": {
      "text/plain": [
       "(25723, 7)"
      ]
     },
     "execution_count": 9,
     "metadata": {},
     "output_type": "execute_result"
    }
   ],
   "source": [
    "df_hip_filt.shape"
   ]
  },
  {
   "cell_type": "code",
   "execution_count": 10,
   "id": "72cd328b",
   "metadata": {},
   "outputs": [],
   "source": [
    "df_hip_filt.dropna(how=\"all\", inplace=True)"
   ]
  },
  {
   "cell_type": "code",
   "execution_count": 11,
   "id": "99896d87",
   "metadata": {},
   "outputs": [
    {
     "data": {
      "text/plain": [
       "(6309, 7)"
      ]
     },
     "execution_count": 11,
     "metadata": {},
     "output_type": "execute_result"
    }
   ],
   "source": [
    "df_hip_filt.shape"
   ]
  },
  {
   "cell_type": "code",
   "execution_count": 12,
   "id": "64a390d9",
   "metadata": {
    "scrolled": false
   },
   "outputs": [
    {
     "data": {
      "text/plain": [
       "country             57\n",
       "area               462\n",
       "location           547\n",
       "activity           551\n",
       "fatal_(y/n)        546\n",
       "species_          2845\n",
       "original_order       0\n",
       "dtype: int64"
      ]
     },
     "execution_count": 12,
     "metadata": {},
     "output_type": "execute_result"
    }
   ],
   "source": [
    "pd.isnull(df_hip_filt).sum()"
   ]
  },
  {
   "cell_type": "markdown",
   "id": "0a167a50",
   "metadata": {},
   "source": [
    "##### Rellenamos los NaN columna por columna"
   ]
  },
  {
   "cell_type": "code",
   "execution_count": 13,
   "id": "0cc75673",
   "metadata": {},
   "outputs": [],
   "source": [
    "df_hip_filt.country.fillna(\"Desconocido\", inplace=True)"
   ]
  },
  {
   "cell_type": "code",
   "execution_count": 14,
   "id": "16ce9386",
   "metadata": {},
   "outputs": [],
   "source": [
    "df_hip_filt.area.fillna(\"Desconocido\", inplace=True)"
   ]
  },
  {
   "cell_type": "code",
   "execution_count": 15,
   "id": "5ff386ed",
   "metadata": {},
   "outputs": [],
   "source": [
    "df_hip_filt.location.fillna(\"Desconocido\", inplace=True)"
   ]
  },
  {
   "cell_type": "code",
   "execution_count": 16,
   "id": "2ef2dba5",
   "metadata": {},
   "outputs": [],
   "source": [
    "df_hip_filt.activity.fillna(\"Desconocido\", inplace=True)"
   ]
  },
  {
   "cell_type": "code",
   "execution_count": 17,
   "id": "e1e4f952",
   "metadata": {},
   "outputs": [],
   "source": [
    "df_hip_filt['fatal_(y/n)'].fillna(\"Desconocido\", inplace=True)"
   ]
  },
  {
   "cell_type": "code",
   "execution_count": 18,
   "id": "44a39c56",
   "metadata": {},
   "outputs": [],
   "source": [
    "df_hip_filt.species_.fillna(\"Desconocido\", inplace=True)"
   ]
  },
  {
   "cell_type": "code",
   "execution_count": 19,
   "id": "3e4dab5a",
   "metadata": {},
   "outputs": [
    {
     "data": {
      "text/plain": [
       "country           0\n",
       "area              0\n",
       "location          0\n",
       "activity          0\n",
       "fatal_(y/n)       0\n",
       "species_          0\n",
       "original_order    0\n",
       "dtype: int64"
      ]
     },
     "execution_count": 19,
     "metadata": {},
     "output_type": "execute_result"
    }
   ],
   "source": [
    "pd.isnull(df_hip_filt).sum()"
   ]
  },
  {
   "cell_type": "markdown",
   "id": "b275ac43",
   "metadata": {},
   "source": [
    "##### A partir de esta base de datos ya filtrada nos centramos en las columnas necesarias para cada hipótesis"
   ]
  },
  {
   "cell_type": "markdown",
   "id": "c4274880",
   "metadata": {},
   "source": [
    "Hipótesis 1"
   ]
  },
  {
   "cell_type": "code",
   "execution_count": 20,
   "id": "921968a5",
   "metadata": {},
   "outputs": [
    {
     "data": {
      "text/plain": [
       "Surfing                                   971\n",
       "Swimming                                  869\n",
       "Desconocido                               551\n",
       "Fishing                                   431\n",
       "Spearfishing                              333\n",
       "                                         ... \n",
       "Playing with a frisbee in the shallows      1\n",
       "Sinking of the ferryboat Dumaguete          1\n",
       "Wreck of the Storm King                     1\n",
       "Feeding mullet to sharks                    1\n",
       "Wreck of  large double sailing canoe        1\n",
       "Name: activity, Length: 1533, dtype: int64"
      ]
     },
     "execution_count": 20,
     "metadata": {},
     "output_type": "execute_result"
    }
   ],
   "source": [
    "df_hip_filt['activity'].value_counts()"
   ]
  },
  {
   "cell_type": "code",
   "execution_count": 21,
   "id": "6b6efa20",
   "metadata": {},
   "outputs": [],
   "source": [
    "df_hip_filt['activity_new'] = df_hip_filt['activity'].apply(cf.new_activity)"
   ]
  },
  {
   "cell_type": "code",
   "execution_count": 22,
   "id": "54b7f0f9",
   "metadata": {},
   "outputs": [
    {
     "data": {
      "text/plain": [
       "array(['Surfing', 'Otra', 'Diving', 'Swimming', 'Fishing', 'Boating',\n",
       "       'Feeding'], dtype=object)"
      ]
     },
     "execution_count": 22,
     "metadata": {},
     "output_type": "execute_result"
    }
   ],
   "source": [
    "df_hip_filt['activity_new'].unique()"
   ]
  },
  {
   "cell_type": "code",
   "execution_count": 23,
   "id": "12ecdc67",
   "metadata": {},
   "outputs": [
    {
     "data": {
      "text/plain": [
       "Otra        1732\n",
       "Surfing     1495\n",
       "Swimming    1474\n",
       "Fishing     1091\n",
       "Diving       454\n",
       "Boating       58\n",
       "Feeding        5\n",
       "Name: activity_new, dtype: int64"
      ]
     },
     "execution_count": 23,
     "metadata": {},
     "output_type": "execute_result"
    }
   ],
   "source": [
    "df_hip_filt['activity_new'].value_counts()"
   ]
  },
  {
   "cell_type": "markdown",
   "id": "1f7243ba",
   "metadata": {},
   "source": [
    "Hipótesis 2"
   ]
  },
  {
   "cell_type": "markdown",
   "id": "d63442be",
   "metadata": {},
   "source": [
    "Columna de especies"
   ]
  },
  {
   "cell_type": "code",
   "execution_count": 24,
   "id": "cc8df881",
   "metadata": {},
   "outputs": [
    {
     "data": {
      "text/plain": [
       "Desconocido                                                                                                                      2845\n",
       "White shark                                                                                                                       163\n",
       "Shark involvement prior to death was not confirmed                                                                                105\n",
       "Invalid                                                                                                                           102\n",
       "Shark involvement not confirmed                                                                                                    88\n",
       "                                                                                                                                 ... \n",
       "1.2 m to 1.5 m [4.5' to 5'] shark                                                                                                   1\n",
       "Bull shark, 2.3 m [7.5']                                                                                                            1\n",
       "0.9 m  [3'] shark                                                                                                                   1\n",
       "Mako shark, 14'                                                                                                                     1\n",
       "Said to involve a grey nurse shark that leapt out of the water and  seized the boy but species identification is questionable       1\n",
       "Name: species_, Length: 1550, dtype: int64"
      ]
     },
     "execution_count": 24,
     "metadata": {},
     "output_type": "execute_result"
    }
   ],
   "source": [
    "df_hip_filt['species_'].value_counts()"
   ]
  },
  {
   "cell_type": "code",
   "execution_count": 25,
   "id": "33717c67",
   "metadata": {},
   "outputs": [],
   "source": [
    "df_hip_filt['species_filt'] = df_hip_filt['species_'].apply(cf.clean_species)"
   ]
  },
  {
   "cell_type": "code",
   "execution_count": 26,
   "id": "22e4650d",
   "metadata": {},
   "outputs": [
    {
     "data": {
      "text/plain": [
       "array(['White shark', 'Desconocido', 'Tiger shark', 'Bull shark',\n",
       "       'Whitetip shark', 'Shortfin Mako Shark', 'Hammerhead Shark',\n",
       "       'Blacktip Shark', 'Sand Tiger Shark'], dtype=object)"
      ]
     },
     "execution_count": 26,
     "metadata": {},
     "output_type": "execute_result"
    }
   ],
   "source": [
    "df_hip_filt['species_filt'].unique()"
   ]
  },
  {
   "cell_type": "code",
   "execution_count": 27,
   "id": "830125dc",
   "metadata": {},
   "outputs": [
    {
     "data": {
      "text/plain": [
       "Desconocido            4928\n",
       "White shark             668\n",
       "Tiger shark             278\n",
       "Bull shark              186\n",
       "Whitetip shark          108\n",
       "Shortfin Mako Shark      56\n",
       "Hammerhead Shark         49\n",
       "Blacktip Shark           18\n",
       "Sand Tiger Shark         18\n",
       "Name: species_filt, dtype: int64"
      ]
     },
     "execution_count": 27,
     "metadata": {},
     "output_type": "execute_result"
    }
   ],
   "source": [
    "df_hip_filt['species_filt'].value_counts()"
   ]
  },
  {
   "cell_type": "markdown",
   "id": "e0642f50",
   "metadata": {},
   "source": [
    "Columna de muertes"
   ]
  },
  {
   "cell_type": "code",
   "execution_count": 28,
   "id": "812ae8c0",
   "metadata": {},
   "outputs": [
    {
     "data": {
      "text/plain": [
       "N              4293\n",
       "Y              1388\n",
       "Desconocido     546\n",
       "UNKNOWN          71\n",
       " N                7\n",
       "M                 1\n",
       "2017              1\n",
       "N                 1\n",
       "y                 1\n",
       "Name: fatal_(y/n), dtype: int64"
      ]
     },
     "execution_count": 28,
     "metadata": {},
     "output_type": "execute_result"
    }
   ],
   "source": [
    "df_hip_filt['fatal_(y/n)'].value_counts()"
   ]
  },
  {
   "cell_type": "code",
   "execution_count": 29,
   "id": "48a71326",
   "metadata": {},
   "outputs": [],
   "source": [
    "df_hip_filt['fatal_new'] = df_hip_filt.apply(cf.clean_fatal, axis=1)"
   ]
  },
  {
   "cell_type": "code",
   "execution_count": 30,
   "id": "1e06404f",
   "metadata": {
    "scrolled": true
   },
   "outputs": [
    {
     "data": {
      "text/plain": [
       "N              4301\n",
       "Y              2006\n",
       "Desconocido       2\n",
       "Name: fatal_new, dtype: int64"
      ]
     },
     "execution_count": 30,
     "metadata": {},
     "output_type": "execute_result"
    }
   ],
   "source": [
    "df_hip_filt['fatal_new'].value_counts()"
   ]
  },
  {
   "cell_type": "markdown",
   "id": "f48fbdf9",
   "metadata": {},
   "source": [
    "Hipótesis 3"
   ]
  },
  {
   "cell_type": "code",
   "execution_count": 31,
   "id": "2c01c767",
   "metadata": {},
   "outputs": [
    {
     "data": {
      "text/plain": [
       "USA                      2229\n",
       "AUSTRALIA                1338\n",
       "SOUTH AFRICA              579\n",
       "PAPUA NEW GUINEA          134\n",
       "NEW ZEALAND               128\n",
       "                         ... \n",
       "THE BALKANS                 1\n",
       "NORTH ATLANTIC OCEAN        1\n",
       "MAYOTTE                     1\n",
       "GABON                       1\n",
       "CEYLON (SRI LANKA)          1\n",
       "Name: country, Length: 213, dtype: int64"
      ]
     },
     "execution_count": 31,
     "metadata": {},
     "output_type": "execute_result"
    }
   ],
   "source": [
    "df_hip_filt['country'].value_counts()"
   ]
  },
  {
   "cell_type": "code",
   "execution_count": 32,
   "id": "4152791d",
   "metadata": {},
   "outputs": [],
   "source": [
    "df_hip_filt['country_org'] = df_hip_filt['country'].apply(cf.new_country)"
   ]
  },
  {
   "cell_type": "code",
   "execution_count": 33,
   "id": "62174a61",
   "metadata": {},
   "outputs": [
    {
     "data": {
      "text/plain": [
       "USA             2229\n",
       "AUSTRALIA       1338\n",
       "SOUTH AFRICA     579\n",
       "Name: country_org, dtype: int64"
      ]
     },
     "execution_count": 33,
     "metadata": {},
     "output_type": "execute_result"
    }
   ],
   "source": [
    "df_hip_filt['country_org'].value_counts()"
   ]
  },
  {
   "cell_type": "code",
   "execution_count": 34,
   "id": "41d2870c",
   "metadata": {},
   "outputs": [
    {
     "data": {
      "text/html": [
       "<div>\n",
       "<style scoped>\n",
       "    .dataframe tbody tr th:only-of-type {\n",
       "        vertical-align: middle;\n",
       "    }\n",
       "\n",
       "    .dataframe tbody tr th {\n",
       "        vertical-align: top;\n",
       "    }\n",
       "\n",
       "    .dataframe thead th {\n",
       "        text-align: right;\n",
       "    }\n",
       "</style>\n",
       "<table border=\"1\" class=\"dataframe\">\n",
       "  <thead>\n",
       "    <tr style=\"text-align: right;\">\n",
       "      <th></th>\n",
       "      <th>country</th>\n",
       "      <th>area</th>\n",
       "      <th>location</th>\n",
       "      <th>activity</th>\n",
       "      <th>fatal_(y/n)</th>\n",
       "      <th>species_</th>\n",
       "      <th>original_order</th>\n",
       "      <th>activity_new</th>\n",
       "      <th>species_filt</th>\n",
       "      <th>fatal_new</th>\n",
       "      <th>country_org</th>\n",
       "    </tr>\n",
       "  </thead>\n",
       "  <tbody>\n",
       "    <tr>\n",
       "      <th>0</th>\n",
       "      <td>USA</td>\n",
       "      <td>California</td>\n",
       "      <td>Oceanside, San Diego County</td>\n",
       "      <td>Paddling</td>\n",
       "      <td>N</td>\n",
       "      <td>White shark</td>\n",
       "      <td>6303.0</td>\n",
       "      <td>Surfing</td>\n",
       "      <td>White shark</td>\n",
       "      <td>N</td>\n",
       "      <td>USA</td>\n",
       "    </tr>\n",
       "    <tr>\n",
       "      <th>1</th>\n",
       "      <td>USA</td>\n",
       "      <td>Georgia</td>\n",
       "      <td>St. Simon Island, Glynn County</td>\n",
       "      <td>Standing</td>\n",
       "      <td>N</td>\n",
       "      <td>Desconocido</td>\n",
       "      <td>6302.0</td>\n",
       "      <td>Otra</td>\n",
       "      <td>Desconocido</td>\n",
       "      <td>N</td>\n",
       "      <td>USA</td>\n",
       "    </tr>\n",
       "    <tr>\n",
       "      <th>2</th>\n",
       "      <td>USA</td>\n",
       "      <td>Hawaii</td>\n",
       "      <td>Habush, Oahu</td>\n",
       "      <td>Surfing</td>\n",
       "      <td>N</td>\n",
       "      <td>Desconocido</td>\n",
       "      <td>6301.0</td>\n",
       "      <td>Surfing</td>\n",
       "      <td>Desconocido</td>\n",
       "      <td>N</td>\n",
       "      <td>USA</td>\n",
       "    </tr>\n",
       "    <tr>\n",
       "      <th>3</th>\n",
       "      <td>AUSTRALIA</td>\n",
       "      <td>New South Wales</td>\n",
       "      <td>Arrawarra Headland</td>\n",
       "      <td>Surfing</td>\n",
       "      <td>N</td>\n",
       "      <td>2 m shark</td>\n",
       "      <td>6300.0</td>\n",
       "      <td>Surfing</td>\n",
       "      <td>Desconocido</td>\n",
       "      <td>N</td>\n",
       "      <td>AUSTRALIA</td>\n",
       "    </tr>\n",
       "    <tr>\n",
       "      <th>4</th>\n",
       "      <td>MEXICO</td>\n",
       "      <td>Colima</td>\n",
       "      <td>La Ticla</td>\n",
       "      <td>Free diving</td>\n",
       "      <td>N</td>\n",
       "      <td>Tiger shark, 3m</td>\n",
       "      <td>6299.0</td>\n",
       "      <td>Diving</td>\n",
       "      <td>Tiger shark</td>\n",
       "      <td>N</td>\n",
       "      <td>None</td>\n",
       "    </tr>\n",
       "  </tbody>\n",
       "</table>\n",
       "</div>"
      ],
      "text/plain": [
       "     country             area                        location     activity  \\\n",
       "0        USA       California     Oceanside, San Diego County     Paddling   \n",
       "1        USA          Georgia  St. Simon Island, Glynn County     Standing   \n",
       "2        USA           Hawaii                    Habush, Oahu      Surfing   \n",
       "3  AUSTRALIA  New South Wales              Arrawarra Headland      Surfing   \n",
       "4     MEXICO           Colima                        La Ticla  Free diving   \n",
       "\n",
       "  fatal_(y/n)         species_  original_order activity_new species_filt  \\\n",
       "0           N      White shark          6303.0      Surfing  White shark   \n",
       "1           N      Desconocido          6302.0         Otra  Desconocido   \n",
       "2           N      Desconocido          6301.0      Surfing  Desconocido   \n",
       "3           N        2 m shark          6300.0      Surfing  Desconocido   \n",
       "4           N  Tiger shark, 3m          6299.0       Diving  Tiger shark   \n",
       "\n",
       "  fatal_new country_org  \n",
       "0         N         USA  \n",
       "1         N         USA  \n",
       "2         N         USA  \n",
       "3         N   AUSTRALIA  \n",
       "4         N        None  "
      ]
     },
     "execution_count": 34,
     "metadata": {},
     "output_type": "execute_result"
    }
   ],
   "source": [
    "df_hip_filt.head()"
   ]
  },
  {
   "cell_type": "markdown",
   "id": "9e9283bf",
   "metadata": {},
   "source": [
    "##### Por último, eliminamos las columnas antiguas y guardamos la nueva DataFrame"
   ]
  },
  {
   "cell_type": "code",
   "execution_count": 35,
   "id": "9fe96ea2",
   "metadata": {},
   "outputs": [
    {
     "name": "stdout",
     "output_type": "stream",
     "text": [
      "Index(['area', 'location', 'original_order', 'activity_new', 'species_filt',\n",
      "       'fatal_new', 'country_org'],\n",
      "      dtype='object')\n"
     ]
    }
   ],
   "source": [
    "df_final = df_hip_filt.drop(['country','activity','species_','fatal_(y/n)'], axis=1)\n",
    "print(df_final.columns)"
   ]
  },
  {
   "cell_type": "code",
   "execution_count": 36,
   "id": "ddf6753f",
   "metadata": {},
   "outputs": [],
   "source": [
    "df_final.to_csv('data/df_fin.csv')"
   ]
  }
 ],
 "metadata": {
  "kernelspec": {
   "display_name": "ironhack",
   "language": "python",
   "name": "ironhack"
  },
  "language_info": {
   "codemirror_mode": {
    "name": "ipython",
    "version": 3
   },
   "file_extension": ".py",
   "mimetype": "text/x-python",
   "name": "python",
   "nbconvert_exporter": "python",
   "pygments_lexer": "ipython3",
   "version": "3.9.7"
  }
 },
 "nbformat": 4,
 "nbformat_minor": 5
}
