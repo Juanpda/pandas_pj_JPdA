{
 "cells": [
  {
   "cell_type": "markdown",
   "id": "f4af9489",
   "metadata": {},
   "source": [
    "## SHARK'S PROYECT JPdA"
   ]
  },
  {
   "cell_type": "markdown",
   "id": "78342284",
   "metadata": {},
   "source": [
    "### Introducción"
   ]
  },
  {
   "cell_type": "markdown",
   "id": "35241dcd",
   "metadata": {},
   "source": [
    "En este proyecto vamos a analizar los ataques de tiburones en el mundo para tratar de demostrar 3 hipótesis:"
   ]
  },
  {
   "cell_type": "markdown",
   "id": "42ee9480",
   "metadata": {},
   "source": [
    "    Hipótesis 1: Nadar es la actividad más peligrosa por encima del surf.\n",
    "    Hipótesis 2: El tiburón blanco es el más mortal.\n",
    "    Hipótesis 3: Hay más ataques en USA que entre Australia y Sudáfrica."
   ]
  },
  {
   "cell_type": "markdown",
   "id": "d5b2217f",
   "metadata": {},
   "source": [
    "Primero importamos las librerias que vamos a utilizar en este documento:"
   ]
  },
  {
   "cell_type": "code",
   "execution_count": 1,
   "id": "ef8df6c7",
   "metadata": {},
   "outputs": [],
   "source": [
    "import pandas as pd\n",
    "import numpy as np\n",
    "import re\n",
    "import seaborn as sns\n",
    "import matplotlib.pyplot as plt"
   ]
  },
  {
   "cell_type": "markdown",
   "id": "1355c1c4",
   "metadata": {},
   "source": [
    "Además, necesitamos importar el DataFrame ya filtrado en el documento anterior:"
   ]
  },
  {
   "cell_type": "code",
   "execution_count": 2,
   "id": "73ee963b",
   "metadata": {},
   "outputs": [],
   "source": [
    "shark_final = pd.read_csv(\"data/df_fin.csv\",encoding = \"ISO-8859-1\")"
   ]
  },
  {
   "cell_type": "code",
   "execution_count": 3,
   "id": "8f32504a",
   "metadata": {},
   "outputs": [
    {
     "data": {
      "text/html": [
       "<div>\n",
       "<style scoped>\n",
       "    .dataframe tbody tr th:only-of-type {\n",
       "        vertical-align: middle;\n",
       "    }\n",
       "\n",
       "    .dataframe tbody tr th {\n",
       "        vertical-align: top;\n",
       "    }\n",
       "\n",
       "    .dataframe thead th {\n",
       "        text-align: right;\n",
       "    }\n",
       "</style>\n",
       "<table border=\"1\" class=\"dataframe\">\n",
       "  <thead>\n",
       "    <tr style=\"text-align: right;\">\n",
       "      <th></th>\n",
       "      <th>Unnamed: 0</th>\n",
       "      <th>area</th>\n",
       "      <th>location</th>\n",
       "      <th>original_order</th>\n",
       "      <th>activity_new</th>\n",
       "      <th>species_filt</th>\n",
       "      <th>fatal_new</th>\n",
       "      <th>country_org</th>\n",
       "    </tr>\n",
       "  </thead>\n",
       "  <tbody>\n",
       "    <tr>\n",
       "      <th>0</th>\n",
       "      <td>0</td>\n",
       "      <td>California</td>\n",
       "      <td>Oceanside, San Diego County</td>\n",
       "      <td>6303.0</td>\n",
       "      <td>Surfing</td>\n",
       "      <td>White shark</td>\n",
       "      <td>N</td>\n",
       "      <td>USA</td>\n",
       "    </tr>\n",
       "    <tr>\n",
       "      <th>1</th>\n",
       "      <td>1</td>\n",
       "      <td>Georgia</td>\n",
       "      <td>St. Simon Island, Glynn County</td>\n",
       "      <td>6302.0</td>\n",
       "      <td>Otra</td>\n",
       "      <td>Desconocido</td>\n",
       "      <td>N</td>\n",
       "      <td>USA</td>\n",
       "    </tr>\n",
       "    <tr>\n",
       "      <th>2</th>\n",
       "      <td>2</td>\n",
       "      <td>Hawaii</td>\n",
       "      <td>Habush, Oahu</td>\n",
       "      <td>6301.0</td>\n",
       "      <td>Surfing</td>\n",
       "      <td>Desconocido</td>\n",
       "      <td>N</td>\n",
       "      <td>USA</td>\n",
       "    </tr>\n",
       "    <tr>\n",
       "      <th>3</th>\n",
       "      <td>3</td>\n",
       "      <td>New South Wales</td>\n",
       "      <td>Arrawarra Headland</td>\n",
       "      <td>6300.0</td>\n",
       "      <td>Surfing</td>\n",
       "      <td>Desconocido</td>\n",
       "      <td>N</td>\n",
       "      <td>AUSTRALIA</td>\n",
       "    </tr>\n",
       "    <tr>\n",
       "      <th>4</th>\n",
       "      <td>4</td>\n",
       "      <td>Colima</td>\n",
       "      <td>La Ticla</td>\n",
       "      <td>6299.0</td>\n",
       "      <td>Diving</td>\n",
       "      <td>Tiger shark</td>\n",
       "      <td>N</td>\n",
       "      <td>NaN</td>\n",
       "    </tr>\n",
       "  </tbody>\n",
       "</table>\n",
       "</div>"
      ],
      "text/plain": [
       "   Unnamed: 0             area                        location  \\\n",
       "0           0       California     Oceanside, San Diego County   \n",
       "1           1          Georgia  St. Simon Island, Glynn County   \n",
       "2           2           Hawaii                    Habush, Oahu   \n",
       "3           3  New South Wales              Arrawarra Headland   \n",
       "4           4           Colima                        La Ticla   \n",
       "\n",
       "   original_order activity_new species_filt fatal_new country_org  \n",
       "0          6303.0      Surfing  White shark         N         USA  \n",
       "1          6302.0         Otra  Desconocido         N         USA  \n",
       "2          6301.0      Surfing  Desconocido         N         USA  \n",
       "3          6300.0      Surfing  Desconocido         N   AUSTRALIA  \n",
       "4          6299.0       Diving  Tiger shark         N         NaN  "
      ]
     },
     "execution_count": 3,
     "metadata": {},
     "output_type": "execute_result"
    }
   ],
   "source": [
    "shark_final.head()"
   ]
  },
  {
   "cell_type": "code",
   "execution_count": 4,
   "id": "2e35fb53",
   "metadata": {},
   "outputs": [
    {
     "data": {
      "text/plain": [
       "(6309, 8)"
      ]
     },
     "execution_count": 4,
     "metadata": {},
     "output_type": "execute_result"
    }
   ],
   "source": [
    "shark_final.shape"
   ]
  },
  {
   "cell_type": "markdown",
   "id": "1fe5d523",
   "metadata": {},
   "source": [
    "Por último, configuramos las opciones de visualización para matplotlib y seaborn: "
   ]
  },
  {
   "cell_type": "code",
   "execution_count": 5,
   "id": "48ab195c",
   "metadata": {},
   "outputs": [],
   "source": [
    "%matplotlib inline\n",
    "%config Inlinebackend.figure_format= 'retina'"
   ]
  },
  {
   "cell_type": "code",
   "execution_count": 6,
   "id": "eb4b4415",
   "metadata": {},
   "outputs": [],
   "source": [
    "sns.set_context(\"poster\")\n",
    "sns.set(rc={\"figure.figsize\": (12.,6.)})\n",
    "sns.set_style(\"whitegrid\")"
   ]
  },
  {
   "cell_type": "markdown",
   "id": "afc52322",
   "metadata": {},
   "source": [
    "### Hipótesis 1"
   ]
  },
  {
   "cell_type": "markdown",
   "id": "4a1f4b49",
   "metadata": {},
   "source": [
    "#### Para demostrar la hipótesis 1, utilizaré un histograma que relacione la variable actividades con la variable fatal."
   ]
  },
  {
   "cell_type": "code",
   "execution_count": 7,
   "id": "14f9df3a",
   "metadata": {
    "scrolled": true
   },
   "outputs": [
    {
     "data": {
      "text/plain": [
       "<AxesSubplot:xlabel='activity_new', ylabel='Count'>"
      ]
     },
     "execution_count": 7,
     "metadata": {},
     "output_type": "execute_result"
    },
    {
     "data": {
      "image/png": "[encoded data removed]",
      "text/plain": [
       "<Figure size 864x432 with 1 Axes>"
      ]
     },
     "metadata": {},
     "output_type": "display_data"
    }
   ],
   "source": [
    "sns.histplot(data=shark_final, x='activity_new', hue='fatal_new', multiple='stack')"
   ]
  },
  {
   "cell_type": "markdown",
   "id": "7e876f77",
   "metadata": {},
   "source": [
    "Como se puede observar en la gráfica, muere más gente mientras practica la natación que gente mientras surfea. Esto demuestra la hipótesis 1.\n"
   ]
  },
  {
   "cell_type": "markdown",
   "id": "c473a98c",
   "metadata": {},
   "source": [
    "### Hipótesis 2"
   ]
  },
  {
   "cell_type": "markdown",
   "id": "57d9c1a2",
   "metadata": {},
   "source": [
    "Para poder llegar a una conclusión sobre esta hipótesis, voy a realizar una gráfica de barras, en la que se indica cuantos ataques mortales y no mortales se han llevado a cabo por cada especie de tiburon."
   ]
  },
  {
   "cell_type": "code",
   "execution_count": 8,
   "id": "dc705e28",
   "metadata": {},
   "outputs": [
    {
     "data": {
      "text/plain": [
       "<AxesSubplot:xlabel='species_filt', ylabel='count'>"
      ]
     },
     "execution_count": 8,
     "metadata": {},
     "output_type": "execute_result"
    },
    {
     "data": {
      "image/png": "[encoded data removed]",
      "text/plain": [
       "<Figure size 1440x720 with 1 Axes>"
      ]
     },
     "metadata": {},
     "output_type": "display_data"
    }
   ],
   "source": [
    "sns.set(rc={'figure.figsize':(20,10)})\n",
    "sns.countplot(data = shark_final, x=\"species_filt\", hue=\"fatal_new\")"
   ]
  },
  {
   "cell_type": "markdown",
   "id": "15d067ec",
   "metadata": {},
   "source": [
    "Con esta gráfica podemos afirmar que los principales ataques mortales se llevan a cabo por los tiburones tigre, toro y blanco."
   ]
  },
  {
   "cell_type": "code",
   "execution_count": 9,
   "id": "bc61a910",
   "metadata": {},
   "outputs": [
    {
     "data": {
      "text/plain": [
       "species_filt         fatal_new  \n",
       "Blacktip Shark       N                 8\n",
       "                     Y                10\n",
       "Bull shark           N               145\n",
       "                     Y                41\n",
       "Desconocido          Desconocido       2\n",
       "                     N              3212\n",
       "                     Y              1714\n",
       "Hammerhead Shark     N                46\n",
       "                     Y                 3\n",
       "Sand Tiger Shark     N                18\n",
       "Shortfin Mako Shark  N                54\n",
       "                     Y                 2\n",
       "Tiger shark          N               207\n",
       "                     Y                71\n",
       "White shark          N               504\n",
       "                     Y               164\n",
       "Whitetip shark       N               107\n",
       "                     Y                 1\n",
       "Name: original_order, dtype: int64"
      ]
     },
     "execution_count": 9,
     "metadata": {},
     "output_type": "execute_result"
    }
   ],
   "source": [
    "shark_final.groupby([\"species_filt\", \"fatal_new\"])[\"original_order\"].count()"
   ]
  },
  {
   "cell_type": "markdown",
   "id": "a792fd26",
   "metadata": {},
   "source": [
    "A partir de esta tabla, podemos sacar los ratios de muertes por ataque para cada especie:\n",
    "White shark: 24.6%\n",
    "Bull shark: 22%\n",
    "Tiger shark: 25.5%\n",
    "Por lo tanto, queda demostrado que la segunda hipótesis es falsa."
   ]
  },
  {
   "cell_type": "markdown",
   "id": "144a74a3",
   "metadata": {},
   "source": [
    "### Hipótesis 3"
   ]
  },
  {
   "cell_type": "markdown",
   "id": "196f060e",
   "metadata": {},
   "source": [
    "Para demostrar la tercera hipótesis, simplemente debemos hacer un recuento de los ataques que se han producido tanto en USA con en Australia y Sudáfrica."
   ]
  },
  {
   "cell_type": "code",
   "execution_count": 10,
   "id": "ec386919",
   "metadata": {},
   "outputs": [],
   "source": [
    "country_rec = shark_final[\"country_org\"].value_counts()"
   ]
  },
  {
   "cell_type": "code",
   "execution_count": 11,
   "id": "29aef97e",
   "metadata": {},
   "outputs": [
    {
     "data": {
      "text/plain": [
       "USA             2229\n",
       "AUSTRALIA       1338\n",
       "SOUTH AFRICA     579\n",
       "Name: country_org, dtype: int64"
      ]
     },
     "metadata": {},
     "output_type": "display_data"
    }
   ],
   "source": [
    "display(country_rec)"
   ]
  },
  {
   "cell_type": "markdown",
   "id": "fb4ae6b9",
   "metadata": {},
   "source": [
    "Como se puede observar, USA suma un total de 2229 ataques mientras que entre Australia y Sudáfrica suman 1917. Por lo tanto, queda demostrada también la tercera hipótesis."
   ]
  },
  {
   "cell_type": "markdown",
   "id": "b08dd2eb",
   "metadata": {},
   "source": [
    "### Conclusión"
   ]
  },
  {
   "cell_type": "markdown",
   "id": "37f58e3b",
   "metadata": {},
   "source": [
    "En resumen:\n",
    "    La hipótesis 1 y 3 eran ciertas y han quedado demostradas en este documento.\n",
    "    La hipótesis 2, sin embargo, es falsa."
   ]
  }
 ],
 "metadata": {
  "kernelspec": {
   "display_name": "ironhack",
   "language": "python",
   "name": "ironhack"
  },
  "language_info": {
   "codemirror_mode": {
    "name": "ipython",
    "version": 3
   },
   "file_extension": ".py",
   "mimetype": "text/x-python",
   "name": "python",
   "nbconvert_exporter": "python",
   "pygments_lexer": "ipython3",
   "version": "3.9.7"
  }
 },
 "nbformat": 4,
 "nbformat_minor": 5
}
